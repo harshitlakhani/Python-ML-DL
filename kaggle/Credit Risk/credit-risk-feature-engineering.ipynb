{
 "cells": [
  {
   "cell_type": "code",
   "execution_count": 1,
   "id": "animal-gothic",
   "metadata": {
    "execution": {
     "iopub.execute_input": "2021-07-09T18:32:05.444676Z",
     "iopub.status.busy": "2021-07-09T18:32:05.443531Z",
     "iopub.status.idle": "2021-07-09T18:32:07.012079Z",
     "shell.execute_reply": "2021-07-09T18:32:07.012833Z",
     "shell.execute_reply.started": "2021-07-09T15:54:51.00407Z"
    },
    "papermill": {
     "duration": 1.603999,
     "end_time": "2021-07-09T18:32:07.013157",
     "exception": false,
     "start_time": "2021-07-09T18:32:05.409158",
     "status": "completed"
    },
    "tags": []
   },
   "outputs": [],
   "source": [
    "#importing helping hands\n",
    "import os\n",
    "import time\n",
    "from collections import Counter\n",
    "\n",
    "import pandas as pd\n",
    "import numpy as np\n",
    "\n",
    "pd.set_option('display.float_format', lambda x: '%.2f' % x)\n",
    "\n",
    "from sklearn.model_selection import train_test_split\n",
    "\n",
    "import seaborn as sns\n",
    "import matplotlib.pyplot as plt\n",
    "\n",
    "\n",
    "import warnings\n",
    "warnings.filterwarnings('ignore')\n",
    "\n",
    "import category_encoders as ce\n",
    "from sklearn.preprocessing import LabelEncoder\n",
    "from sklearn.ensemble import RandomForestClassifier\n",
    "from sklearn.feature_selection import SelectFromModel\n",
    "from sklearn.metrics import confusion_matrix, f1_score"
   ]
  },
  {
   "cell_type": "code",
   "execution_count": 2,
   "id": "efficient-newfoundland",
   "metadata": {
    "execution": {
     "iopub.execute_input": "2021-07-09T18:32:07.074382Z",
     "iopub.status.busy": "2021-07-09T18:32:07.073733Z",
     "iopub.status.idle": "2021-07-09T18:32:21.725517Z",
     "shell.execute_reply": "2021-07-09T18:32:21.726071Z",
     "shell.execute_reply.started": "2021-07-09T15:54:52.491196Z"
    },
    "papermill": {
     "duration": 14.683779,
     "end_time": "2021-07-09T18:32:21.726306",
     "exception": false,
     "start_time": "2021-07-09T18:32:07.042527",
     "status": "completed"
    },
    "tags": []
   },
   "outputs": [],
   "source": [
    "train_path = '../input/credit-risk-dataset/loan/loan.csv'\n",
    "data = pd.read_csv(train_path)"
   ]
  },
  {
   "cell_type": "code",
   "execution_count": 3,
   "id": "rising-radio",
   "metadata": {
    "execution": {
     "iopub.execute_input": "2021-07-09T18:32:21.788740Z",
     "iopub.status.busy": "2021-07-09T18:32:21.788044Z",
     "iopub.status.idle": "2021-07-09T18:32:21.824545Z",
     "shell.execute_reply": "2021-07-09T18:32:21.825104Z",
     "shell.execute_reply.started": "2021-07-09T15:55:07.484366Z"
    },
    "papermill": {
     "duration": 0.068613,
     "end_time": "2021-07-09T18:32:21.825284",
     "exception": false,
     "start_time": "2021-07-09T18:32:21.756671",
     "status": "completed"
    },
    "tags": []
   },
   "outputs": [
    {
     "data": {
      "text/html": [
       "<div>\n",
       "<style scoped>\n",
       "    .dataframe tbody tr th:only-of-type {\n",
       "        vertical-align: middle;\n",
       "    }\n",
       "\n",
       "    .dataframe tbody tr th {\n",
       "        vertical-align: top;\n",
       "    }\n",
       "\n",
       "    .dataframe thead th {\n",
       "        text-align: right;\n",
       "    }\n",
       "</style>\n",
       "<table border=\"1\" class=\"dataframe\">\n",
       "  <thead>\n",
       "    <tr style=\"text-align: right;\">\n",
       "      <th></th>\n",
       "      <th>id</th>\n",
       "      <th>member_id</th>\n",
       "      <th>loan_amnt</th>\n",
       "      <th>funded_amnt</th>\n",
       "      <th>funded_amnt_inv</th>\n",
       "      <th>term</th>\n",
       "      <th>int_rate</th>\n",
       "      <th>installment</th>\n",
       "      <th>grade</th>\n",
       "      <th>sub_grade</th>\n",
       "      <th>...</th>\n",
       "      <th>total_bal_il</th>\n",
       "      <th>il_util</th>\n",
       "      <th>open_rv_12m</th>\n",
       "      <th>open_rv_24m</th>\n",
       "      <th>max_bal_bc</th>\n",
       "      <th>all_util</th>\n",
       "      <th>total_rev_hi_lim</th>\n",
       "      <th>inq_fi</th>\n",
       "      <th>total_cu_tl</th>\n",
       "      <th>inq_last_12m</th>\n",
       "    </tr>\n",
       "  </thead>\n",
       "  <tbody>\n",
       "    <tr>\n",
       "      <th>0</th>\n",
       "      <td>1077501</td>\n",
       "      <td>1296599</td>\n",
       "      <td>5000.00</td>\n",
       "      <td>5000.00</td>\n",
       "      <td>4975.00</td>\n",
       "      <td>36 months</td>\n",
       "      <td>10.65</td>\n",
       "      <td>162.87</td>\n",
       "      <td>B</td>\n",
       "      <td>B2</td>\n",
       "      <td>...</td>\n",
       "      <td>NaN</td>\n",
       "      <td>NaN</td>\n",
       "      <td>NaN</td>\n",
       "      <td>NaN</td>\n",
       "      <td>NaN</td>\n",
       "      <td>NaN</td>\n",
       "      <td>NaN</td>\n",
       "      <td>NaN</td>\n",
       "      <td>NaN</td>\n",
       "      <td>NaN</td>\n",
       "    </tr>\n",
       "    <tr>\n",
       "      <th>1</th>\n",
       "      <td>1077430</td>\n",
       "      <td>1314167</td>\n",
       "      <td>2500.00</td>\n",
       "      <td>2500.00</td>\n",
       "      <td>2500.00</td>\n",
       "      <td>60 months</td>\n",
       "      <td>15.27</td>\n",
       "      <td>59.83</td>\n",
       "      <td>C</td>\n",
       "      <td>C4</td>\n",
       "      <td>...</td>\n",
       "      <td>NaN</td>\n",
       "      <td>NaN</td>\n",
       "      <td>NaN</td>\n",
       "      <td>NaN</td>\n",
       "      <td>NaN</td>\n",
       "      <td>NaN</td>\n",
       "      <td>NaN</td>\n",
       "      <td>NaN</td>\n",
       "      <td>NaN</td>\n",
       "      <td>NaN</td>\n",
       "    </tr>\n",
       "    <tr>\n",
       "      <th>2</th>\n",
       "      <td>1077175</td>\n",
       "      <td>1313524</td>\n",
       "      <td>2400.00</td>\n",
       "      <td>2400.00</td>\n",
       "      <td>2400.00</td>\n",
       "      <td>36 months</td>\n",
       "      <td>15.96</td>\n",
       "      <td>84.33</td>\n",
       "      <td>C</td>\n",
       "      <td>C5</td>\n",
       "      <td>...</td>\n",
       "      <td>NaN</td>\n",
       "      <td>NaN</td>\n",
       "      <td>NaN</td>\n",
       "      <td>NaN</td>\n",
       "      <td>NaN</td>\n",
       "      <td>NaN</td>\n",
       "      <td>NaN</td>\n",
       "      <td>NaN</td>\n",
       "      <td>NaN</td>\n",
       "      <td>NaN</td>\n",
       "    </tr>\n",
       "    <tr>\n",
       "      <th>3</th>\n",
       "      <td>1076863</td>\n",
       "      <td>1277178</td>\n",
       "      <td>10000.00</td>\n",
       "      <td>10000.00</td>\n",
       "      <td>10000.00</td>\n",
       "      <td>36 months</td>\n",
       "      <td>13.49</td>\n",
       "      <td>339.31</td>\n",
       "      <td>C</td>\n",
       "      <td>C1</td>\n",
       "      <td>...</td>\n",
       "      <td>NaN</td>\n",
       "      <td>NaN</td>\n",
       "      <td>NaN</td>\n",
       "      <td>NaN</td>\n",
       "      <td>NaN</td>\n",
       "      <td>NaN</td>\n",
       "      <td>NaN</td>\n",
       "      <td>NaN</td>\n",
       "      <td>NaN</td>\n",
       "      <td>NaN</td>\n",
       "    </tr>\n",
       "    <tr>\n",
       "      <th>4</th>\n",
       "      <td>1075358</td>\n",
       "      <td>1311748</td>\n",
       "      <td>3000.00</td>\n",
       "      <td>3000.00</td>\n",
       "      <td>3000.00</td>\n",
       "      <td>60 months</td>\n",
       "      <td>12.69</td>\n",
       "      <td>67.79</td>\n",
       "      <td>B</td>\n",
       "      <td>B5</td>\n",
       "      <td>...</td>\n",
       "      <td>NaN</td>\n",
       "      <td>NaN</td>\n",
       "      <td>NaN</td>\n",
       "      <td>NaN</td>\n",
       "      <td>NaN</td>\n",
       "      <td>NaN</td>\n",
       "      <td>NaN</td>\n",
       "      <td>NaN</td>\n",
       "      <td>NaN</td>\n",
       "      <td>NaN</td>\n",
       "    </tr>\n",
       "  </tbody>\n",
       "</table>\n",
       "<p>5 rows × 74 columns</p>\n",
       "</div>"
      ],
      "text/plain": [
       "        id  member_id  loan_amnt  funded_amnt  funded_amnt_inv        term  \\\n",
       "0  1077501    1296599    5000.00      5000.00          4975.00   36 months   \n",
       "1  1077430    1314167    2500.00      2500.00          2500.00   60 months   \n",
       "2  1077175    1313524    2400.00      2400.00          2400.00   36 months   \n",
       "3  1076863    1277178   10000.00     10000.00         10000.00   36 months   \n",
       "4  1075358    1311748    3000.00      3000.00          3000.00   60 months   \n",
       "\n",
       "   int_rate  installment grade sub_grade  ... total_bal_il il_util  \\\n",
       "0     10.65       162.87     B        B2  ...          NaN     NaN   \n",
       "1     15.27        59.83     C        C4  ...          NaN     NaN   \n",
       "2     15.96        84.33     C        C5  ...          NaN     NaN   \n",
       "3     13.49       339.31     C        C1  ...          NaN     NaN   \n",
       "4     12.69        67.79     B        B5  ...          NaN     NaN   \n",
       "\n",
       "  open_rv_12m  open_rv_24m max_bal_bc all_util total_rev_hi_lim inq_fi  \\\n",
       "0         NaN          NaN        NaN      NaN              NaN    NaN   \n",
       "1         NaN          NaN        NaN      NaN              NaN    NaN   \n",
       "2         NaN          NaN        NaN      NaN              NaN    NaN   \n",
       "3         NaN          NaN        NaN      NaN              NaN    NaN   \n",
       "4         NaN          NaN        NaN      NaN              NaN    NaN   \n",
       "\n",
       "  total_cu_tl inq_last_12m  \n",
       "0         NaN          NaN  \n",
       "1         NaN          NaN  \n",
       "2         NaN          NaN  \n",
       "3         NaN          NaN  \n",
       "4         NaN          NaN  \n",
       "\n",
       "[5 rows x 74 columns]"
      ]
     },
     "execution_count": 3,
     "metadata": {},
     "output_type": "execute_result"
    }
   ],
   "source": [
    "data.head()"
   ]
  },
  {
   "cell_type": "code",
   "execution_count": 4,
   "id": "worthy-freight",
   "metadata": {
    "execution": {
     "iopub.execute_input": "2021-07-09T18:32:21.887460Z",
     "iopub.status.busy": "2021-07-09T18:32:21.886823Z",
     "iopub.status.idle": "2021-07-09T18:32:21.961021Z",
     "shell.execute_reply": "2021-07-09T18:32:21.961691Z",
     "shell.execute_reply.started": "2021-07-09T15:55:07.525029Z"
    },
    "papermill": {
     "duration": 0.106867,
     "end_time": "2021-07-09T18:32:21.961892",
     "exception": false,
     "start_time": "2021-07-09T18:32:21.855025",
     "status": "completed"
    },
    "tags": []
   },
   "outputs": [
    {
     "data": {
      "text/plain": [
       "array(['Fully Paid', 'Charged Off', 'Current', 'Default',\n",
       "       'Late (31-120 days)', 'In Grace Period', 'Late (16-30 days)',\n",
       "       'Does not meet the credit policy. Status:Fully Paid',\n",
       "       'Does not meet the credit policy. Status:Charged Off', 'Issued'],\n",
       "      dtype=object)"
      ]
     },
     "execution_count": 4,
     "metadata": {},
     "output_type": "execute_result"
    }
   ],
   "source": [
    "data['loan_status'].unique()"
   ]
  },
  {
   "cell_type": "markdown",
   "id": "quarterly-chuck",
   "metadata": {
    "papermill": {
     "duration": 0.031032,
     "end_time": "2021-07-09T18:32:22.023422",
     "exception": false,
     "start_time": "2021-07-09T18:32:21.992390",
     "status": "completed"
    },
    "tags": []
   },
   "source": [
    "#### Loan Status\n",
    "Before Getting into feature engineering lets understand about the loan status. I have created 4 different categories for given statuses.\n",
    "\n",
    "1. **Issued**\n",
    "    * Recently issued a fresh loan to borrower\n",
    "2. **Issued, Current, Fully Paid, Does not meet the credit policy. Status:Fully Paid (Category 1)**\n",
    "    * Current - All outstanding payments are paid up to date \n",
    "    * Fully Paid - All outstanding payments are paid up and loan is finished\n",
    "3. **In Grace Period, Late (16-30 days), Late (31-120 days) (Category 2)**\n",
    "    * In Grace Period - 1-15 days passed after the due date\n",
    "    * Late (16-30 days) - 16-30 days passed after the due date\n",
    "    * Late (31-120 days) - 31-120 days passed after the due date\n",
    "4. **Charged Off , Does not meet the credit policy. Status:Charged Off, Default (Category 3)**\n",
    "    * Default - The borrower is not able to make outstanding payments for an extended period of time\n",
    "    * Charged Off - A charge-off usually occurs when the creditor has deemed an outstanding debt is uncollectible\n",
    "    \n",
    "Inorder to get idea about the different loan status, please visit https://bit.ly/35Vv3W3"
   ]
  },
  {
   "cell_type": "markdown",
   "id": "defensive-thumb",
   "metadata": {
    "papermill": {
     "duration": 0.030146,
     "end_time": "2021-07-09T18:32:22.083401",
     "exception": false,
     "start_time": "2021-07-09T18:32:22.053255",
     "status": "completed"
    },
    "tags": []
   },
   "source": [
    "## Normal Random Forest"
   ]
  },
  {
   "cell_type": "code",
   "execution_count": 5,
   "id": "incorporate-sperm",
   "metadata": {
    "execution": {
     "iopub.execute_input": "2021-07-09T18:32:22.147961Z",
     "iopub.status.busy": "2021-07-09T18:32:22.147266Z",
     "iopub.status.idle": "2021-07-09T18:32:22.536652Z",
     "shell.execute_reply": "2021-07-09T18:32:22.537172Z",
     "shell.execute_reply.started": "2021-07-09T15:55:07.604295Z"
    },
    "papermill": {
     "duration": 0.42318,
     "end_time": "2021-07-09T18:32:22.537364",
     "exception": false,
     "start_time": "2021-07-09T18:32:22.114184",
     "status": "completed"
    },
    "tags": []
   },
   "outputs": [],
   "source": [
    "#copying the dataframe\n",
    "df = data.copy()"
   ]
  },
  {
   "cell_type": "code",
   "execution_count": 6,
   "id": "gothic-cyprus",
   "metadata": {
    "execution": {
     "iopub.execute_input": "2021-07-09T18:32:22.600297Z",
     "iopub.status.busy": "2021-07-09T18:32:22.599697Z",
     "iopub.status.idle": "2021-07-09T18:32:24.920064Z",
     "shell.execute_reply": "2021-07-09T18:32:24.920648Z",
     "shell.execute_reply.started": "2021-07-09T15:55:07.986717Z"
    },
    "papermill": {
     "duration": 2.353461,
     "end_time": "2021-07-09T18:32:24.920823",
     "exception": false,
     "start_time": "2021-07-09T18:32:22.567362",
     "status": "completed"
    },
    "tags": []
   },
   "outputs": [],
   "source": [
    "#removing columns havinf more than 97% NaNs \n",
    "columns = []\n",
    "for column in df.columns:\n",
    "    if ((df[column].isna().sum()/len(df))*100) >= 97:\n",
    "        columns.append(column)\n",
    "df.drop(columns = columns, axis = 1, inplace = True)"
   ]
  },
  {
   "cell_type": "code",
   "execution_count": 7,
   "id": "careful-matrix",
   "metadata": {
    "execution": {
     "iopub.execute_input": "2021-07-09T18:32:24.983858Z",
     "iopub.status.busy": "2021-07-09T18:32:24.983178Z",
     "iopub.status.idle": "2021-07-09T18:32:26.895299Z",
     "shell.execute_reply": "2021-07-09T18:32:26.896052Z",
     "shell.execute_reply.started": "2021-07-09T15:55:10.310117Z"
    },
    "papermill": {
     "duration": 1.94554,
     "end_time": "2021-07-09T18:32:26.896253",
     "exception": false,
     "start_time": "2021-07-09T18:32:24.950713",
     "status": "completed"
    },
    "tags": []
   },
   "outputs": [
    {
     "name": "stdout",
     "output_type": "stream",
     "text": [
      "<class 'pandas.core.frame.DataFrame'>\n",
      "RangeIndex: 887379 entries, 0 to 887378\n",
      "Data columns (total 57 columns):\n",
      " #   Column                       Non-Null Count   Dtype  \n",
      "---  ------                       --------------   -----  \n",
      " 0   id                           887379 non-null  int64  \n",
      " 1   member_id                    887379 non-null  int64  \n",
      " 2   loan_amnt                    887379 non-null  float64\n",
      " 3   funded_amnt                  887379 non-null  float64\n",
      " 4   funded_amnt_inv              887379 non-null  float64\n",
      " 5   term                         887379 non-null  object \n",
      " 6   int_rate                     887379 non-null  float64\n",
      " 7   installment                  887379 non-null  float64\n",
      " 8   grade                        887379 non-null  object \n",
      " 9   sub_grade                    887379 non-null  object \n",
      " 10  emp_title                    835917 non-null  object \n",
      " 11  emp_length                   842554 non-null  object \n",
      " 12  home_ownership               887379 non-null  object \n",
      " 13  annual_inc                   887375 non-null  float64\n",
      " 14  verification_status          887379 non-null  object \n",
      " 15  issue_d                      887379 non-null  object \n",
      " 16  loan_status                  887379 non-null  object \n",
      " 17  pymnt_plan                   887379 non-null  object \n",
      " 18  url                          887379 non-null  object \n",
      " 19  desc                         126028 non-null  object \n",
      " 20  purpose                      887379 non-null  object \n",
      " 21  title                        887227 non-null  object \n",
      " 22  zip_code                     887379 non-null  object \n",
      " 23  addr_state                   887379 non-null  object \n",
      " 24  dti                          887379 non-null  float64\n",
      " 25  delinq_2yrs                  887350 non-null  float64\n",
      " 26  earliest_cr_line             887350 non-null  object \n",
      " 27  inq_last_6mths               887350 non-null  float64\n",
      " 28  mths_since_last_delinq       433067 non-null  float64\n",
      " 29  mths_since_last_record       137053 non-null  float64\n",
      " 30  open_acc                     887350 non-null  float64\n",
      " 31  pub_rec                      887350 non-null  float64\n",
      " 32  revol_bal                    887379 non-null  float64\n",
      " 33  revol_util                   886877 non-null  float64\n",
      " 34  total_acc                    887350 non-null  float64\n",
      " 35  initial_list_status          887379 non-null  object \n",
      " 36  out_prncp                    887379 non-null  float64\n",
      " 37  out_prncp_inv                887379 non-null  float64\n",
      " 38  total_pymnt                  887379 non-null  float64\n",
      " 39  total_pymnt_inv              887379 non-null  float64\n",
      " 40  total_rec_prncp              887379 non-null  float64\n",
      " 41  total_rec_int                887379 non-null  float64\n",
      " 42  total_rec_late_fee           887379 non-null  float64\n",
      " 43  recoveries                   887379 non-null  float64\n",
      " 44  collection_recovery_fee      887379 non-null  float64\n",
      " 45  last_pymnt_d                 869720 non-null  object \n",
      " 46  last_pymnt_amnt              887379 non-null  float64\n",
      " 47  next_pymnt_d                 634408 non-null  object \n",
      " 48  last_credit_pull_d           887326 non-null  object \n",
      " 49  collections_12_mths_ex_med   887234 non-null  float64\n",
      " 50  mths_since_last_major_derog  221703 non-null  float64\n",
      " 51  policy_code                  887379 non-null  float64\n",
      " 52  application_type             887379 non-null  object \n",
      " 53  acc_now_delinq               887350 non-null  float64\n",
      " 54  tot_coll_amt                 817103 non-null  float64\n",
      " 55  tot_cur_bal                  817103 non-null  float64\n",
      " 56  total_rev_hi_lim             817103 non-null  float64\n",
      "dtypes: float64(33), int64(2), object(22)\n",
      "memory usage: 385.9+ MB\n"
     ]
    }
   ],
   "source": [
    "df.info()"
   ]
  },
  {
   "cell_type": "code",
   "execution_count": 8,
   "id": "conceptual-greenhouse",
   "metadata": {
    "execution": {
     "iopub.execute_input": "2021-07-09T18:32:26.964375Z",
     "iopub.status.busy": "2021-07-09T18:32:26.963660Z",
     "iopub.status.idle": "2021-07-09T18:32:28.873682Z",
     "shell.execute_reply": "2021-07-09T18:32:28.874219Z",
     "shell.execute_reply.started": "2021-07-09T15:55:12.226381Z"
    },
    "papermill": {
     "duration": 1.94675,
     "end_time": "2021-07-09T18:32:28.874399",
     "exception": false,
     "start_time": "2021-07-09T18:32:26.927649",
     "status": "completed"
    },
    "tags": []
   },
   "outputs": [],
   "source": [
    "#fillna in dataframe\n",
    "df.fillna(0, inplace = True)"
   ]
  },
  {
   "cell_type": "code",
   "execution_count": 9,
   "id": "brief-truck",
   "metadata": {
    "execution": {
     "iopub.execute_input": "2021-07-09T18:32:29.009498Z",
     "iopub.status.busy": "2021-07-09T18:32:29.008417Z",
     "iopub.status.idle": "2021-07-09T18:32:32.646062Z",
     "shell.execute_reply": "2021-07-09T18:32:32.645480Z",
     "shell.execute_reply.started": "2021-07-09T15:55:14.118107Z"
    },
    "papermill": {
     "duration": 3.741375,
     "end_time": "2021-07-09T18:32:32.646216",
     "exception": false,
     "start_time": "2021-07-09T18:32:28.904841",
     "status": "completed"
    },
    "tags": []
   },
   "outputs": [],
   "source": [
    "#dividing the loan_statuses into 3 categories\n",
    "df.loc[df['loan_status'].isin(['Issued','Current','Does not meet the credit policy. Status:Fully Paid', 'Fully Paid']), 'loan_category'] = 1\n",
    "df.loc[df['loan_status'].isin(['In Grace Period', 'Late (16-30 days)', 'Late (31-120 days)']), 'loan_category'] = 2\n",
    "df.loc[df['loan_status'].isin(['Charged Off' , 'Does not meet the credit policy. Status:Charged Off', 'Default']), 'loan_category'] = 3\n",
    "\n",
    "#droping the loan_status column \n",
    "df.drop(['loan_status'], axis = 1, inplace = True)\n",
    "\n",
    "#object type columns \n",
    "object_columns = df.select_dtypes('object')\n",
    "\n",
    "#separating the features and labels\n",
    "features = df.drop(columns = ['loan_category'], axis = 1)\n",
    "labels = df['loan_category']\n",
    "\n",
    "#train-test spliting\n",
    "X_train, X_test, y_train, y_test =  train_test_split(features, labels, test_size = 0.25, random_state = 43, stratify = labels)"
   ]
  },
  {
   "cell_type": "code",
   "execution_count": 10,
   "id": "preliminary-cutting",
   "metadata": {
    "execution": {
     "iopub.execute_input": "2021-07-09T18:32:32.712282Z",
     "iopub.status.busy": "2021-07-09T18:32:32.711388Z",
     "iopub.status.idle": "2021-07-09T18:32:32.714714Z",
     "shell.execute_reply": "2021-07-09T18:32:32.714088Z",
     "shell.execute_reply.started": "2021-07-09T15:55:17.985143Z"
    },
    "papermill": {
     "duration": 0.038611,
     "end_time": "2021-07-09T18:32:32.714846",
     "exception": false,
     "start_time": "2021-07-09T18:32:32.676235",
     "status": "completed"
    },
    "tags": []
   },
   "outputs": [],
   "source": [
    "def category_encoding(columns, X_train, X_test):\n",
    "    #encoding the categorical data\n",
    "    encoder = ce.OrdinalEncoder(cols = columns)\n",
    "    encoder = encoder.fit(X_train)\n",
    "\n",
    "    X_train_encoded = encoder.transform(X_train)\n",
    "    X_test_encoded = encoder.transform(X_test)\n",
    "    \n",
    "    return X_train_encoded, X_test_encoded"
   ]
  },
  {
   "cell_type": "code",
   "execution_count": 11,
   "id": "average-biotechnology",
   "metadata": {
    "execution": {
     "iopub.execute_input": "2021-07-09T18:32:32.781501Z",
     "iopub.status.busy": "2021-07-09T18:32:32.780470Z",
     "iopub.status.idle": "2021-07-09T18:32:32.783411Z",
     "shell.execute_reply": "2021-07-09T18:32:32.782766Z",
     "shell.execute_reply.started": "2021-07-09T15:55:17.992339Z"
    },
    "papermill": {
     "duration": 0.038743,
     "end_time": "2021-07-09T18:32:32.783548",
     "exception": false,
     "start_time": "2021-07-09T18:32:32.744805",
     "status": "completed"
    },
    "tags": []
   },
   "outputs": [],
   "source": [
    "def training_predicting(X_train, X_test, y_train, n, imp_features = False):\n",
    "    #selecting random forest for training\n",
    "    model = RandomForestClassifier(n_estimators = n, verbose = 1)\n",
    "\n",
    "    #training\n",
    "    model.fit(X_train, y_train)\n",
    "\n",
    "    #prediction and metrix score\n",
    "    y_predict = model.predict(X_test)\n",
    "    \n",
    "    if imp_features == True:\n",
    "        return y_predict, model.feature_importances_\n",
    "    \n",
    "    return y_predict"
   ]
  },
  {
   "cell_type": "code",
   "execution_count": 12,
   "id": "committed-detective",
   "metadata": {
    "execution": {
     "iopub.execute_input": "2021-07-09T18:32:32.850744Z",
     "iopub.status.busy": "2021-07-09T18:32:32.849589Z",
     "iopub.status.idle": "2021-07-09T18:34:31.234547Z",
     "shell.execute_reply": "2021-07-09T18:34:31.235031Z",
     "shell.execute_reply.started": "2021-07-09T15:55:18.008345Z"
    },
    "papermill": {
     "duration": 118.421705,
     "end_time": "2021-07-09T18:34:31.235231",
     "exception": false,
     "start_time": "2021-07-09T18:32:32.813526",
     "status": "completed"
    },
    "tags": []
   },
   "outputs": [
    {
     "name": "stderr",
     "output_type": "stream",
     "text": [
      "[Parallel(n_jobs=1)]: Using backend SequentialBackend with 1 concurrent workers.\n",
      "[Parallel(n_jobs=1)]: Done  20 out of  20 | elapsed:  1.7min finished\n",
      "[Parallel(n_jobs=1)]: Using backend SequentialBackend with 1 concurrent workers.\n",
      "[Parallel(n_jobs=1)]: Done  20 out of  20 | elapsed:    1.4s finished\n"
     ]
    }
   ],
   "source": [
    "#categorical encoding\n",
    "X_train_encoded, X_test_encoded = category_encoding(object_columns, X_train, X_test)\n",
    "\n",
    "#training, predicting, feature importance  \n",
    "y_predict, imp_features = training_predicting(X_train_encoded, X_test_encoded, y_train, 20, imp_features = True)"
   ]
  },
  {
   "cell_type": "code",
   "execution_count": 13,
   "id": "parental-ethiopia",
   "metadata": {
    "execution": {
     "iopub.execute_input": "2021-07-09T18:34:31.303796Z",
     "iopub.status.busy": "2021-07-09T18:34:31.302860Z",
     "iopub.status.idle": "2021-07-09T18:34:33.379963Z",
     "shell.execute_reply": "2021-07-09T18:34:33.379383Z",
     "shell.execute_reply.started": "2021-07-09T15:57:14.409788Z"
    },
    "papermill": {
     "duration": 2.11392,
     "end_time": "2021-07-09T18:34:33.380105",
     "exception": false,
     "start_time": "2021-07-09T18:34:31.266185",
     "status": "completed"
    },
    "tags": []
   },
   "outputs": [
    {
     "data": {
      "image/png": "[encoded data removed]",
      "text/plain": [
       "<Figure size 432x288 with 2 Axes>"
      ]
     },
     "metadata": {
      "needs_background": "light"
     },
     "output_type": "display_data"
    }
   ],
   "source": [
    "#confusion matrix\n",
    "cf_matrix = confusion_matrix(y_test, y_predict, labels = [1,2,3])\n",
    "sns.heatmap(cf_matrix, annot=True, fmt = 'g')\n",
    "plt.xlabel('Predicted')\n",
    "plt.ylabel('True')\n",
    "plt.show()"
   ]
  },
  {
   "cell_type": "code",
   "execution_count": 14,
   "id": "particular-finding",
   "metadata": {
    "execution": {
     "iopub.execute_input": "2021-07-09T18:34:33.454809Z",
     "iopub.status.busy": "2021-07-09T18:34:33.454011Z",
     "iopub.status.idle": "2021-07-09T18:34:33.457667Z",
     "shell.execute_reply": "2021-07-09T18:34:33.458136Z",
     "shell.execute_reply.started": "2021-07-09T15:57:16.495448Z"
    },
    "papermill": {
     "duration": 0.046071,
     "end_time": "2021-07-09T18:34:33.458321",
     "exception": false,
     "start_time": "2021-07-09T18:34:33.412250",
     "status": "completed"
    },
    "tags": []
   },
   "outputs": [
    {
     "data": {
      "text/html": [
       "<div>\n",
       "<style scoped>\n",
       "    .dataframe tbody tr th:only-of-type {\n",
       "        vertical-align: middle;\n",
       "    }\n",
       "\n",
       "    .dataframe tbody tr th {\n",
       "        vertical-align: top;\n",
       "    }\n",
       "\n",
       "    .dataframe thead th {\n",
       "        text-align: right;\n",
       "    }\n",
       "</style>\n",
       "<table border=\"1\" class=\"dataframe\">\n",
       "  <thead>\n",
       "    <tr style=\"text-align: right;\">\n",
       "      <th></th>\n",
       "      <th>importance</th>\n",
       "    </tr>\n",
       "  </thead>\n",
       "  <tbody>\n",
       "    <tr>\n",
       "      <th>recoveries</th>\n",
       "      <td>0.14</td>\n",
       "    </tr>\n",
       "    <tr>\n",
       "      <th>last_pymnt_d</th>\n",
       "      <td>0.13</td>\n",
       "    </tr>\n",
       "    <tr>\n",
       "      <th>collection_recovery_fee</th>\n",
       "      <td>0.10</td>\n",
       "    </tr>\n",
       "    <tr>\n",
       "      <th>total_rec_prncp</th>\n",
       "      <td>0.09</td>\n",
       "    </tr>\n",
       "    <tr>\n",
       "      <th>last_pymnt_amnt</th>\n",
       "      <td>0.05</td>\n",
       "    </tr>\n",
       "    <tr>\n",
       "      <th>total_pymnt</th>\n",
       "      <td>0.04</td>\n",
       "    </tr>\n",
       "    <tr>\n",
       "      <th>funded_amnt</th>\n",
       "      <td>0.04</td>\n",
       "    </tr>\n",
       "    <tr>\n",
       "      <th>next_pymnt_d</th>\n",
       "      <td>0.03</td>\n",
       "    </tr>\n",
       "    <tr>\n",
       "      <th>funded_amnt_inv</th>\n",
       "      <td>0.03</td>\n",
       "    </tr>\n",
       "    <tr>\n",
       "      <th>id</th>\n",
       "      <td>0.03</td>\n",
       "    </tr>\n",
       "  </tbody>\n",
       "</table>\n",
       "</div>"
      ],
      "text/plain": [
       "                         importance\n",
       "recoveries                     0.14\n",
       "last_pymnt_d                   0.13\n",
       "collection_recovery_fee        0.10\n",
       "total_rec_prncp                0.09\n",
       "last_pymnt_amnt                0.05\n",
       "total_pymnt                    0.04\n",
       "funded_amnt                    0.04\n",
       "next_pymnt_d                   0.03\n",
       "funded_amnt_inv                0.03\n",
       "id                             0.03"
      ]
     },
     "execution_count": 14,
     "metadata": {},
     "output_type": "execute_result"
    }
   ],
   "source": [
    "#10 important features\n",
    "imp_features = pd.DataFrame(imp_features, index = X_train.columns, columns = ['importance']).sort_values('importance', ascending = False)\n",
    "imp_features.head(10)"
   ]
  },
  {
   "cell_type": "markdown",
   "id": "interstate-program",
   "metadata": {
    "papermill": {
     "duration": 0.032062,
     "end_time": "2021-07-09T18:34:33.522789",
     "exception": false,
     "start_time": "2021-07-09T18:34:33.490727",
     "status": "completed"
    },
    "tags": []
   },
   "source": [
    "## Feature Creation"
   ]
  },
  {
   "cell_type": "code",
   "execution_count": 15,
   "id": "secondary-cisco",
   "metadata": {
    "execution": {
     "iopub.execute_input": "2021-07-09T18:34:33.592113Z",
     "iopub.status.busy": "2021-07-09T18:34:33.591425Z",
     "iopub.status.idle": "2021-07-09T18:34:34.029140Z",
     "shell.execute_reply": "2021-07-09T18:34:34.028569Z",
     "shell.execute_reply.started": "2021-07-09T15:57:16.50967Z"
    },
    "papermill": {
     "duration": 0.47417,
     "end_time": "2021-07-09T18:34:34.029315",
     "exception": false,
     "start_time": "2021-07-09T18:34:33.555145",
     "status": "completed"
    },
    "tags": []
   },
   "outputs": [],
   "source": [
    "#copying the dataframe\n",
    "df = data.copy()"
   ]
  },
  {
   "cell_type": "code",
   "execution_count": 16,
   "id": "interracial-eclipse",
   "metadata": {
    "execution": {
     "iopub.execute_input": "2021-07-09T18:34:34.102813Z",
     "iopub.status.busy": "2021-07-09T18:34:34.102144Z",
     "iopub.status.idle": "2021-07-09T18:34:36.408174Z",
     "shell.execute_reply": "2021-07-09T18:34:36.407642Z",
     "shell.execute_reply.started": "2021-07-09T15:57:16.958228Z"
    },
    "papermill": {
     "duration": 2.345171,
     "end_time": "2021-07-09T18:34:36.408339",
     "exception": false,
     "start_time": "2021-07-09T18:34:34.063168",
     "status": "completed"
    },
    "tags": []
   },
   "outputs": [],
   "source": [
    "#removing columns havinf more than 97% NaNs \n",
    "columns = []\n",
    "for column in df.columns:\n",
    "    if ((df[column].isna().sum()/len(df))*100) >= 97:\n",
    "        columns.append(column)\n",
    "df.drop(columns = columns, axis = 1, inplace = True)"
   ]
  },
  {
   "cell_type": "code",
   "execution_count": 17,
   "id": "ranging-plane",
   "metadata": {
    "execution": {
     "iopub.execute_input": "2021-07-09T18:34:36.480400Z",
     "iopub.status.busy": "2021-07-09T18:34:36.479326Z",
     "iopub.status.idle": "2021-07-09T18:34:38.559313Z",
     "shell.execute_reply": "2021-07-09T18:34:38.558628Z",
     "shell.execute_reply.started": "2021-07-09T15:57:19.285382Z"
    },
    "papermill": {
     "duration": 2.118751,
     "end_time": "2021-07-09T18:34:38.559463",
     "exception": false,
     "start_time": "2021-07-09T18:34:36.440712",
     "status": "completed"
    },
    "tags": []
   },
   "outputs": [],
   "source": [
    "#last payment date can be splitted into months and years as well\n",
    "df['last_pymnt_d_month'] = df['last_pymnt_d'].map(lambda x: str(x).split(\"-\")[0])\n",
    "df['last_pymnt_d_year'] = df['last_pymnt_d'].map(lambda x: str(x).split(\"-\")[-1])\n",
    "df['last_pymnt_d_nan'] = df['last_pymnt_d'].map(lambda x: 0 if pd.isna(x) else 1)"
   ]
  },
  {
   "cell_type": "code",
   "execution_count": 18,
   "id": "everyday-manhattan",
   "metadata": {
    "execution": {
     "iopub.execute_input": "2021-07-09T18:34:38.631675Z",
     "iopub.status.busy": "2021-07-09T18:34:38.630641Z",
     "iopub.status.idle": "2021-07-09T18:34:40.755643Z",
     "shell.execute_reply": "2021-07-09T18:34:40.754984Z",
     "shell.execute_reply.started": "2021-07-09T15:57:21.352754Z"
    },
    "papermill": {
     "duration": 2.163891,
     "end_time": "2021-07-09T18:34:40.755807",
     "exception": false,
     "start_time": "2021-07-09T18:34:38.591916",
     "status": "completed"
    },
    "tags": []
   },
   "outputs": [],
   "source": [
    "#next payment date can be splitted into months and years as well\n",
    "df['next_pymnt_d_month'] = df['next_pymnt_d'].map(lambda x: str(x).split(\"-\")[0])\n",
    "df['next_pymnt_d_year'] = df['next_pymnt_d'].map(lambda x: str(x).split(\"-\")[-1])\n",
    "df['next_pymnt_d_nan'] = df['next_pymnt_d'].map(lambda x: 0 if pd.isna(x) else 1)"
   ]
  },
  {
   "cell_type": "code",
   "execution_count": 19,
   "id": "ahead-vitamin",
   "metadata": {
    "execution": {
     "iopub.execute_input": "2021-07-09T18:34:40.829054Z",
     "iopub.status.busy": "2021-07-09T18:34:40.827996Z",
     "iopub.status.idle": "2021-07-09T18:34:42.904495Z",
     "shell.execute_reply": "2021-07-09T18:34:42.903942Z",
     "shell.execute_reply.started": "2021-07-09T15:57:23.466072Z"
    },
    "papermill": {
     "duration": 2.115794,
     "end_time": "2021-07-09T18:34:42.904650",
     "exception": false,
     "start_time": "2021-07-09T18:34:40.788856",
     "status": "completed"
    },
    "tags": []
   },
   "outputs": [],
   "source": [
    "#loan issue date can be splitted into months and years as well\n",
    "df['issue_d_month'] = df['issue_d'].map(lambda x: str(x).split(\"-\")[0])\n",
    "df['issue_d_year'] = df['issue_d'].map(lambda x: str(x).split(\"-\")[-1])\n",
    "df['issue_d_nan'] = df['issue_d'].map(lambda x: 0 if pd.isna(x) else 1)"
   ]
  },
  {
   "cell_type": "code",
   "execution_count": 20,
   "id": "apparent-witness",
   "metadata": {
    "execution": {
     "iopub.execute_input": "2021-07-09T18:34:42.975901Z",
     "iopub.status.busy": "2021-07-09T18:34:42.975276Z",
     "iopub.status.idle": "2021-07-09T18:34:43.014518Z",
     "shell.execute_reply": "2021-07-09T18:34:43.014995Z",
     "shell.execute_reply.started": "2021-07-09T15:57:25.538517Z"
    },
    "papermill": {
     "duration": 0.07799,
     "end_time": "2021-07-09T18:34:43.015175",
     "exception": false,
     "start_time": "2021-07-09T18:34:42.937185",
     "status": "completed"
    },
    "tags": []
   },
   "outputs": [],
   "source": [
    "#new percentage features created from existed ones\n",
    "df['rec_prncp_per'] = (df['total_rec_prncp']/df['funded_amnt'])*100\n",
    "df['rem_prncp_per'] = (df['out_prncp']/df['funded_amnt'])*100\n",
    "df['installment _perc'] = (df['installment']/df['funded_amnt'])*100\n",
    "df['open_loc_perc'] = (df['open_acc']/df['total_acc'])*100"
   ]
  },
  {
   "cell_type": "code",
   "execution_count": 21,
   "id": "extended-semester",
   "metadata": {
    "execution": {
     "iopub.execute_input": "2021-07-09T18:34:43.138846Z",
     "iopub.status.busy": "2021-07-09T18:34:43.137777Z",
     "iopub.status.idle": "2021-07-09T18:34:44.169799Z",
     "shell.execute_reply": "2021-07-09T18:34:44.168982Z",
     "shell.execute_reply.started": "2021-07-09T15:57:25.582866Z"
    },
    "papermill": {
     "duration": 1.121622,
     "end_time": "2021-07-09T18:34:44.169970",
     "exception": false,
     "start_time": "2021-07-09T18:34:43.048348",
     "status": "completed"
    },
    "tags": []
   },
   "outputs": [],
   "source": [
    "le = LabelEncoder()\n",
    "le.fit(df['last_pymnt_d_month'].unique())\n",
    "\n",
    "df['last_pymnt_d_month'] = le.transform(df['last_pymnt_d_month'])\n",
    "df['next_pymnt_d_month'] = le.transform(df['next_pymnt_d_month'])\n",
    "df['issue_d_month'] = le.transform(df['issue_d_month'])"
   ]
  },
  {
   "cell_type": "code",
   "execution_count": 22,
   "id": "previous-horror",
   "metadata": {
    "execution": {
     "iopub.execute_input": "2021-07-09T18:34:44.242495Z",
     "iopub.status.busy": "2021-07-09T18:34:44.240977Z",
     "iopub.status.idle": "2021-07-09T18:34:47.317707Z",
     "shell.execute_reply": "2021-07-09T18:34:47.317005Z",
     "shell.execute_reply.started": "2021-07-09T15:57:26.726307Z"
    },
    "papermill": {
     "duration": 3.114486,
     "end_time": "2021-07-09T18:34:47.317857",
     "exception": false,
     "start_time": "2021-07-09T18:34:44.203371",
     "status": "completed"
    },
    "tags": []
   },
   "outputs": [],
   "source": [
    "#fillna in dataframe\n",
    "df.fillna(0, inplace = True)"
   ]
  },
  {
   "cell_type": "code",
   "execution_count": 23,
   "id": "strategic-interim",
   "metadata": {
    "execution": {
     "iopub.execute_input": "2021-07-09T18:34:47.454344Z",
     "iopub.status.busy": "2021-07-09T18:34:47.389272Z",
     "iopub.status.idle": "2021-07-09T18:34:49.440911Z",
     "shell.execute_reply": "2021-07-09T18:34:49.440312Z",
     "shell.execute_reply.started": "2021-07-09T15:57:29.820867Z"
    },
    "papermill": {
     "duration": 2.090673,
     "end_time": "2021-07-09T18:34:49.441054",
     "exception": false,
     "start_time": "2021-07-09T18:34:47.350381",
     "status": "completed"
    },
    "tags": []
   },
   "outputs": [],
   "source": [
    "#dividing the loan_statuses into 3 categories\n",
    "df.loc[df['loan_status'].isin(['Issued','Current','Does not meet the credit policy. Status:Fully Paid', 'Fully Paid']), 'loan_category'] = 1\n",
    "df.loc[df['loan_status'].isin(['In Grace Period', 'Late (16-30 days)', 'Late (31-120 days)']), 'loan_category'] = 2\n",
    "df.loc[df['loan_status'].isin(['Charged Off' , 'Does not meet the credit policy. Status:Charged Off', 'Default']), 'loan_category'] = 3\n",
    "\n",
    "#droping the loan_status column \n",
    "df.drop(['loan_status'], axis = 1, inplace = True)\n",
    "\n",
    "#object type columns \n",
    "object_columns = df.select_dtypes('object')\n",
    "\n",
    "#separating the features and labels\n",
    "features = df.drop(columns = ['loan_category'], axis = 1)\n",
    "labels = df['loan_category']"
   ]
  },
  {
   "cell_type": "code",
   "execution_count": 24,
   "id": "annual-patrol",
   "metadata": {
    "execution": {
     "iopub.execute_input": "2021-07-09T18:34:49.511461Z",
     "iopub.status.busy": "2021-07-09T18:34:49.510808Z",
     "iopub.status.idle": "2021-07-09T18:34:52.217108Z",
     "shell.execute_reply": "2021-07-09T18:34:52.216533Z",
     "shell.execute_reply.started": "2021-07-09T15:57:31.91564Z"
    },
    "papermill": {
     "duration": 2.743573,
     "end_time": "2021-07-09T18:34:52.217261",
     "exception": false,
     "start_time": "2021-07-09T18:34:49.473688",
     "status": "completed"
    },
    "tags": []
   },
   "outputs": [],
   "source": [
    "#train-test spliting\n",
    "X_train, X_test, y_train, y_test =  train_test_split(features, labels, test_size = 0.25, random_state = 43, stratify = labels)"
   ]
  },
  {
   "cell_type": "code",
   "execution_count": 25,
   "id": "configured-display",
   "metadata": {
    "execution": {
     "iopub.execute_input": "2021-07-09T18:34:52.288751Z",
     "iopub.status.busy": "2021-07-09T18:34:52.288060Z",
     "iopub.status.idle": "2021-07-09T18:35:15.712238Z",
     "shell.execute_reply": "2021-07-09T18:35:15.711674Z",
     "shell.execute_reply.started": "2021-07-09T15:57:34.625272Z"
    },
    "papermill": {
     "duration": 23.462487,
     "end_time": "2021-07-09T18:35:15.712393",
     "exception": false,
     "start_time": "2021-07-09T18:34:52.249906",
     "status": "completed"
    },
    "tags": []
   },
   "outputs": [],
   "source": [
    "#categorical encoding\n",
    "X_train_encoded, X_test_encoded = category_encoding(object_columns, X_train, X_test)"
   ]
  },
  {
   "cell_type": "code",
   "execution_count": 26,
   "id": "manual-battle",
   "metadata": {
    "execution": {
     "iopub.execute_input": "2021-07-09T18:35:15.785891Z",
     "iopub.status.busy": "2021-07-09T18:35:15.785231Z",
     "iopub.status.idle": "2021-07-09T18:37:11.176227Z",
     "shell.execute_reply": "2021-07-09T18:37:11.175678Z",
     "shell.execute_reply.started": "2021-07-09T15:57:57.955157Z"
    },
    "papermill": {
     "duration": 115.431248,
     "end_time": "2021-07-09T18:37:11.176382",
     "exception": false,
     "start_time": "2021-07-09T18:35:15.745134",
     "status": "completed"
    },
    "tags": []
   },
   "outputs": [
    {
     "name": "stderr",
     "output_type": "stream",
     "text": [
      "[Parallel(n_jobs=1)]: Using backend SequentialBackend with 1 concurrent workers.\n",
      "[Parallel(n_jobs=1)]: Done  20 out of  20 | elapsed:  1.9min finished\n",
      "[Parallel(n_jobs=1)]: Using backend SequentialBackend with 1 concurrent workers.\n",
      "[Parallel(n_jobs=1)]: Done  20 out of  20 | elapsed:    1.3s finished\n"
     ]
    }
   ],
   "source": [
    "#training, predicting, feature importance  \n",
    "y_predict, imp_features = training_predicting(X_train_encoded, X_test_encoded, y_train, 20, imp_features = True)"
   ]
  },
  {
   "cell_type": "code",
   "execution_count": 27,
   "id": "mechanical-brand",
   "metadata": {
    "execution": {
     "iopub.execute_input": "2021-07-09T18:37:11.268084Z",
     "iopub.status.busy": "2021-07-09T18:37:11.267151Z",
     "iopub.status.idle": "2021-07-09T18:37:13.230406Z",
     "shell.execute_reply": "2021-07-09T18:37:13.229660Z",
     "shell.execute_reply.started": "2021-07-09T15:59:54.022963Z"
    },
    "papermill": {
     "duration": 2.015929,
     "end_time": "2021-07-09T18:37:13.230554",
     "exception": false,
     "start_time": "2021-07-09T18:37:11.214625",
     "status": "completed"
    },
    "tags": []
   },
   "outputs": [
    {
     "data": {
      "image/png": "[encoded data removed]",
      "text/plain": [
       "<Figure size 432x288 with 2 Axes>"
      ]
     },
     "metadata": {
      "needs_background": "light"
     },
     "output_type": "display_data"
    }
   ],
   "source": [
    "#confusion matrix\n",
    "cf_matrix = confusion_matrix(y_test, y_predict, labels = [1,2,3])\n",
    "sns.heatmap(cf_matrix, annot=True, fmt = 'g')\n",
    "plt.xlabel('Predicted')\n",
    "plt.ylabel('True')\n",
    "plt.show()"
   ]
  },
  {
   "cell_type": "code",
   "execution_count": 28,
   "id": "homeless-madonna",
   "metadata": {
    "execution": {
     "iopub.execute_input": "2021-07-09T18:37:13.309574Z",
     "iopub.status.busy": "2021-07-09T18:37:13.308845Z",
     "iopub.status.idle": "2021-07-09T18:37:13.319495Z",
     "shell.execute_reply": "2021-07-09T18:37:13.320013Z",
     "shell.execute_reply.started": "2021-07-09T15:59:55.964556Z"
    },
    "papermill": {
     "duration": 0.051101,
     "end_time": "2021-07-09T18:37:13.320186",
     "exception": false,
     "start_time": "2021-07-09T18:37:13.269085",
     "status": "completed"
    },
    "tags": []
   },
   "outputs": [
    {
     "data": {
      "text/html": [
       "<div>\n",
       "<style scoped>\n",
       "    .dataframe tbody tr th:only-of-type {\n",
       "        vertical-align: middle;\n",
       "    }\n",
       "\n",
       "    .dataframe tbody tr th {\n",
       "        vertical-align: top;\n",
       "    }\n",
       "\n",
       "    .dataframe thead th {\n",
       "        text-align: right;\n",
       "    }\n",
       "</style>\n",
       "<table border=\"1\" class=\"dataframe\">\n",
       "  <thead>\n",
       "    <tr style=\"text-align: right;\">\n",
       "      <th></th>\n",
       "      <th>importance</th>\n",
       "    </tr>\n",
       "  </thead>\n",
       "  <tbody>\n",
       "    <tr>\n",
       "      <th>rec_prncp_per</th>\n",
       "      <td>0.16</td>\n",
       "    </tr>\n",
       "    <tr>\n",
       "      <th>recoveries</th>\n",
       "      <td>0.10</td>\n",
       "    </tr>\n",
       "    <tr>\n",
       "      <th>collection_recovery_fee</th>\n",
       "      <td>0.09</td>\n",
       "    </tr>\n",
       "    <tr>\n",
       "      <th>last_pymnt_d</th>\n",
       "      <td>0.08</td>\n",
       "    </tr>\n",
       "    <tr>\n",
       "      <th>total_rec_prncp</th>\n",
       "      <td>0.05</td>\n",
       "    </tr>\n",
       "    <tr>\n",
       "      <th>last_pymnt_amnt</th>\n",
       "      <td>0.04</td>\n",
       "    </tr>\n",
       "    <tr>\n",
       "      <th>last_pymnt_d_month</th>\n",
       "      <td>0.04</td>\n",
       "    </tr>\n",
       "    <tr>\n",
       "      <th>total_pymnt_inv</th>\n",
       "      <td>0.04</td>\n",
       "    </tr>\n",
       "    <tr>\n",
       "      <th>out_prncp</th>\n",
       "      <td>0.03</td>\n",
       "    </tr>\n",
       "    <tr>\n",
       "      <th>total_pymnt</th>\n",
       "      <td>0.03</td>\n",
       "    </tr>\n",
       "  </tbody>\n",
       "</table>\n",
       "</div>"
      ],
      "text/plain": [
       "                         importance\n",
       "rec_prncp_per                  0.16\n",
       "recoveries                     0.10\n",
       "collection_recovery_fee        0.09\n",
       "last_pymnt_d                   0.08\n",
       "total_rec_prncp                0.05\n",
       "last_pymnt_amnt                0.04\n",
       "last_pymnt_d_month             0.04\n",
       "total_pymnt_inv                0.04\n",
       "out_prncp                      0.03\n",
       "total_pymnt                    0.03"
      ]
     },
     "execution_count": 28,
     "metadata": {},
     "output_type": "execute_result"
    }
   ],
   "source": [
    "#finding feature importance\n",
    "imp_features = pd.DataFrame(imp_features, index = X_train.columns, columns = ['importance']).sort_values('importance', ascending = False)\n",
    "imp_features.head(10)"
   ]
  },
  {
   "cell_type": "markdown",
   "id": "ordered-vocabulary",
   "metadata": {
    "papermill": {
     "duration": 0.034758,
     "end_time": "2021-07-09T18:37:13.390640",
     "exception": false,
     "start_time": "2021-07-09T18:37:13.355882",
     "status": "completed"
    },
    "tags": []
   },
   "source": [
    "## SMOTE for balancing the data"
   ]
  },
  {
   "cell_type": "code",
   "execution_count": 29,
   "id": "prerequisite-commerce",
   "metadata": {
    "execution": {
     "iopub.execute_input": "2021-07-09T18:37:13.631880Z",
     "iopub.status.busy": "2021-07-09T18:37:13.630951Z",
     "iopub.status.idle": "2021-07-09T18:37:13.635327Z",
     "shell.execute_reply": "2021-07-09T18:37:13.635792Z",
     "shell.execute_reply.started": "2021-07-09T15:59:55.977083Z"
    },
    "papermill": {
     "duration": 0.210376,
     "end_time": "2021-07-09T18:37:13.635978",
     "exception": false,
     "start_time": "2021-07-09T18:37:13.425602",
     "status": "completed"
    },
    "tags": []
   },
   "outputs": [
    {
     "data": {
      "text/plain": [
       "Counter({3.0: 35421, 1.0: 614962, 2.0: 15151})"
      ]
     },
     "execution_count": 29,
     "metadata": {},
     "output_type": "execute_result"
    }
   ],
   "source": [
    "Counter(y_train)"
   ]
  },
  {
   "cell_type": "code",
   "execution_count": 30,
   "id": "unavailable-drink",
   "metadata": {
    "execution": {
     "iopub.execute_input": "2021-07-09T18:37:13.712053Z",
     "iopub.status.busy": "2021-07-09T18:37:13.711373Z",
     "iopub.status.idle": "2021-07-09T18:37:52.169608Z",
     "shell.execute_reply": "2021-07-09T18:37:52.168621Z",
     "shell.execute_reply.started": "2021-07-09T15:59:56.157778Z"
    },
    "papermill": {
     "duration": 38.498357,
     "end_time": "2021-07-09T18:37:52.170018",
     "exception": false,
     "start_time": "2021-07-09T18:37:13.671661",
     "status": "completed"
    },
    "tags": []
   },
   "outputs": [],
   "source": [
    "from imblearn.over_sampling import SMOTE\n",
    "\n",
    "oversample = SMOTE()\n",
    "X_train, y_train = oversample.fit_resample(X_train_encoded, y_train)"
   ]
  },
  {
   "cell_type": "code",
   "execution_count": 31,
   "id": "catholic-fields",
   "metadata": {
    "execution": {
     "iopub.execute_input": "2021-07-09T18:37:52.253514Z",
     "iopub.status.busy": "2021-07-09T18:37:52.252748Z",
     "iopub.status.idle": "2021-07-09T18:42:25.496822Z",
     "shell.execute_reply": "2021-07-09T18:42:25.496052Z",
     "shell.execute_reply.started": "2021-07-09T16:00:35.878751Z"
    },
    "papermill": {
     "duration": 273.28848,
     "end_time": "2021-07-09T18:42:25.497036",
     "exception": false,
     "start_time": "2021-07-09T18:37:52.208556",
     "status": "completed"
    },
    "tags": []
   },
   "outputs": [
    {
     "name": "stderr",
     "output_type": "stream",
     "text": [
      "[Parallel(n_jobs=1)]: Using backend SequentialBackend with 1 concurrent workers.\n",
      "[Parallel(n_jobs=1)]: Done  20 out of  20 | elapsed:  4.5min finished\n",
      "[Parallel(n_jobs=1)]: Using backend SequentialBackend with 1 concurrent workers.\n",
      "[Parallel(n_jobs=1)]: Done  20 out of  20 | elapsed:    1.4s finished\n"
     ]
    }
   ],
   "source": [
    "#training, predicting, feature importance  \n",
    "y_predict, imp_features = training_predicting(X_train, X_test_encoded, y_train, 20, imp_features = True)"
   ]
  },
  {
   "cell_type": "code",
   "execution_count": 32,
   "id": "deluxe-ceiling",
   "metadata": {
    "execution": {
     "iopub.execute_input": "2021-07-09T18:42:25.577811Z",
     "iopub.status.busy": "2021-07-09T18:42:25.577128Z",
     "iopub.status.idle": "2021-07-09T18:42:27.478276Z",
     "shell.execute_reply": "2021-07-09T18:42:27.478870Z",
     "shell.execute_reply.started": "2021-07-09T16:05:30.66324Z"
    },
    "papermill": {
     "duration": 1.943639,
     "end_time": "2021-07-09T18:42:27.479050",
     "exception": false,
     "start_time": "2021-07-09T18:42:25.535411",
     "status": "completed"
    },
    "tags": []
   },
   "outputs": [
    {
     "data": {
      "image/png": "[encoded data removed]",
      "text/plain": [
       "<Figure size 432x288 with 2 Axes>"
      ]
     },
     "metadata": {
      "needs_background": "light"
     },
     "output_type": "display_data"
    }
   ],
   "source": [
    "#confusion matrix\n",
    "cf_matrix = confusion_matrix(y_test, y_predict, labels = [1,2,3])\n",
    "sns.heatmap(cf_matrix, annot=True, fmt = 'g')\n",
    "plt.xlabel('Predicted')\n",
    "plt.ylabel('True')\n",
    "plt.show()"
   ]
  },
  {
   "cell_type": "markdown",
   "id": "orange-bathroom",
   "metadata": {
    "papermill": {
     "duration": 0.036873,
     "end_time": "2021-07-09T18:42:27.552890",
     "exception": false,
     "start_time": "2021-07-09T18:42:27.516017",
     "status": "completed"
    },
    "tags": []
   },
   "source": [
    "#### I would like your thoughts on how to improve this model's False Negative problem"
   ]
  },
  {
   "cell_type": "code",
   "execution_count": null,
   "id": "desperate-publisher",
   "metadata": {
    "papermill": {
     "duration": 0.036944,
     "end_time": "2021-07-09T18:42:27.627550",
     "exception": false,
     "start_time": "2021-07-09T18:42:27.590606",
     "status": "completed"
    },
    "tags": []
   },
   "outputs": [],
   "source": [
    " "
   ]
  }
 ],
 "metadata": {
  "kernelspec": {
   "display_name": "Python 3",
   "language": "python",
   "name": "python3"
  },
  "language_info": {
   "codemirror_mode": {
    "name": "ipython",
    "version": 3
   },
   "file_extension": ".py",
   "mimetype": "text/x-python",
   "name": "python",
   "nbconvert_exporter": "python",
   "pygments_lexer": "ipython3",
   "version": "3.7.10"
  },
  "papermill": {
   "default_parameters": {},
   "duration": 631.970892,
   "end_time": "2021-07-09T18:42:29.079498",
   "environment_variables": {},
   "exception": null,
   "input_path": "__notebook__.ipynb",
   "output_path": "__notebook__.ipynb",
   "parameters": {},
   "start_time": "2021-07-09T18:31:57.108606",
   "version": "2.3.3"
  }
 },
 "nbformat": 4,
 "nbformat_minor": 5
}
